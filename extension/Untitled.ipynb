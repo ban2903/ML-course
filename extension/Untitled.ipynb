{
 "cells": [
  {
   "cell_type": "code",
   "execution_count": 3,
   "metadata": {},
   "outputs": [],
   "source": [
    "import numpy as np\n",
    "import pandas as pd\n",
    "from sklearn.tree import DecisionTreeClassifier"
   ]
  },
  {
   "cell_type": "code",
   "execution_count": 4,
   "metadata": {
    "scrolled": true
   },
   "outputs": [
    {
     "name": "stdout",
     "output_type": "stream",
     "text": [
      "             Survived  Pclass  \\\n",
      "PassengerId                     \n",
      "1                   0       3   \n",
      "2                   1       1   \n",
      "3                   1       3   \n",
      "4                   1       1   \n",
      "5                   0       3   \n",
      "...               ...     ...   \n",
      "887                 0       2   \n",
      "888                 1       1   \n",
      "889                 0       3   \n",
      "890                 1       1   \n",
      "891                 0       3   \n",
      "\n",
      "                                                          Name     Sex   Age  \\\n",
      "PassengerId                                                                    \n",
      "1                                      Braund, Mr. Owen Harris    male  22.0   \n",
      "2            Cumings, Mrs. John Bradley (Florence Briggs Th...  female  38.0   \n",
      "3                                       Heikkinen, Miss. Laina  female  26.0   \n",
      "4                 Futrelle, Mrs. Jacques Heath (Lily May Peel)  female  35.0   \n",
      "5                                     Allen, Mr. William Henry    male  35.0   \n",
      "...                                                        ...     ...   ...   \n",
      "887                                      Montvila, Rev. Juozas    male  27.0   \n",
      "888                               Graham, Miss. Margaret Edith  female  19.0   \n",
      "889                   Johnston, Miss. Catherine Helen \"Carrie\"  female   NaN   \n",
      "890                                      Behr, Mr. Karl Howell    male  26.0   \n",
      "891                                        Dooley, Mr. Patrick    male  32.0   \n",
      "\n",
      "             SibSp  Parch            Ticket     Fare Cabin Embarked  \n",
      "PassengerId                                                          \n",
      "1                1      0         A/5 21171   7.2500   NaN        S  \n",
      "2                1      0          PC 17599  71.2833   C85        C  \n",
      "3                0      0  STON/O2. 3101282   7.9250   NaN        S  \n",
      "4                1      0            113803  53.1000  C123        S  \n",
      "5                0      0            373450   8.0500   NaN        S  \n",
      "...            ...    ...               ...      ...   ...      ...  \n",
      "887              0      0            211536  13.0000   NaN        S  \n",
      "888              0      0            112053  30.0000   B42        S  \n",
      "889              1      2        W./C. 6607  23.4500   NaN        S  \n",
      "890              0      0            111369  30.0000  C148        C  \n",
      "891              0      0            370376   7.7500   NaN        Q  \n",
      "\n",
      "[891 rows x 11 columns]\n"
     ]
    }
   ],
   "source": [
    "data = pd.read_csv(\"123.csv\", index_col='PassengerId')\n",
    "print(data)"
   ]
  },
  {
   "cell_type": "code",
   "execution_count": 5,
   "metadata": {},
   "outputs": [],
   "source": [
    "m = 0\n",
    "f = 0\n",
    "for s in data[\"Sex\"]:\n",
    "    if s == \"male\":\n",
    "        m += 1\n",
    "    else:\n",
    "        f += 1"
   ]
  },
  {
   "cell_type": "code",
   "execution_count": 6,
   "metadata": {},
   "outputs": [
    {
     "name": "stdout",
     "output_type": "stream",
     "text": [
      "577 314\n"
     ]
    }
   ],
   "source": [
    "print(m,f)"
   ]
  },
  {
   "cell_type": "code",
   "execution_count": 7,
   "metadata": {},
   "outputs": [
    {
     "name": "stdout",
     "output_type": "stream",
     "text": [
      "38.38\n"
     ]
    }
   ],
   "source": [
    "sur = 0\n",
    "al = 0\n",
    "for s in data[\"Survived\"]:\n",
    "    if s:\n",
    "        sur += 1\n",
    "    al += 1\n",
    "\n",
    "print(round(sur/al * 100, 2))"
   ]
  },
  {
   "cell_type": "code",
   "execution_count": 8,
   "metadata": {},
   "outputs": [],
   "source": [
    "r = round(np.sum(data[\"Pclass\"][data[\"Pclass\"] == 1]) / data[\"Pclass\"].shape[0] * 100,2)"
   ]
  },
  {
   "cell_type": "code",
   "execution_count": 9,
   "metadata": {},
   "outputs": [
    {
     "name": "stdout",
     "output_type": "stream",
     "text": [
      "24.24\n"
     ]
    }
   ],
   "source": [
    "print(r)"
   ]
  },
  {
   "cell_type": "code",
   "execution_count": null,
   "metadata": {},
   "outputs": [],
   "source": []
  },
  {
   "cell_type": "code",
   "execution_count": 10,
   "metadata": {},
   "outputs": [
    {
     "name": "stdout",
     "output_type": "stream",
     "text": [
      "24.24\n"
     ]
    }
   ],
   "source": [
    "f=0\n",
    "al = 0\n",
    "for cl in data[\"Pclass\"]:\n",
    "    if cl == 1:\n",
    "        f=f+1\n",
    "    al = al+1\n",
    "print(round(f / al * 100,2 ))"
   ]
  },
  {
   "cell_type": "code",
   "execution_count": null,
   "metadata": {},
   "outputs": [],
   "source": []
  },
  {
   "cell_type": "code",
   "execution_count": 11,
   "metadata": {},
   "outputs": [
    {
     "name": "stdout",
     "output_type": "stream",
     "text": [
      "          SibSp     Parch\n",
      "SibSp  1.000000  0.414838\n",
      "Parch  0.414838  1.000000\n"
     ]
    }
   ],
   "source": [
    "rr = pd.DataFrame(data=data, columns=[\"SibSp\",'Parch'])\n",
    "print(rr.corr())"
   ]
  },
  {
   "cell_type": "code",
   "execution_count": 12,
   "metadata": {},
   "outputs": [
    {
     "data": {
      "text/plain": [
       "PassengerId\n",
       "1                                Braund, Mr. Owen Harris\n",
       "2      Cumings, Mrs. John Bradley (Florence Briggs Th...\n",
       "3                                 Heikkinen, Miss. Laina\n",
       "4           Futrelle, Mrs. Jacques Heath (Lily May Peel)\n",
       "5                               Allen, Mr. William Henry\n",
       "                             ...                        \n",
       "887                                Montvila, Rev. Juozas\n",
       "888                         Graham, Miss. Margaret Edith\n",
       "889             Johnston, Miss. Catherine Helen \"Carrie\"\n",
       "890                                Behr, Mr. Karl Howell\n",
       "891                                  Dooley, Mr. Patrick\n",
       "Name: Name, Length: 891, dtype: object"
      ]
     },
     "execution_count": 12,
     "metadata": {},
     "output_type": "execute_result"
    }
   ],
   "source": [
    "data[\"Name\"]"
   ]
  },
  {
   "cell_type": "code",
   "execution_count": 14,
   "metadata": {},
   "outputs": [
    {
     "name": "stdout",
     "output_type": "stream",
     "text": [
      "[('William male', 35), ('William male', 34), ('William male', 33), ('William male', 32), ('William male', 31), ('William male', 30), ('William male', 29), ('William male', 28), ('William male', 27), ('William male', 26), ('William male', 25), ('William male', 24), ('John male', 23), ('William male', 23), ('John male', 22), ('William male', 22), ('John male', 21), ('William male', 21), ('John male', 20), ('William male', 20), ('John male', 19), ('William male', 19), ('William male', 18), ('John male', 18), ('William male', 17), ('John male', 17), ('William male', 16), ('John male', 16), ('William male', 15), ('John male', 15), ('Anna female', 14), ('William male', 14), ('John male', 14), ('Mary female', 13), ('George male', 13), ('Anna female', 13), ('Thomas male', 13), ('William male', 13), ('John male', 13), ('Charles male', 12), ('Mary female', 12), ('Anna female', 12), ('Thomas male', 12), ('George male', 12), ('William male', 12), ('John male', 12), ('James male', 11), ('Elizabeth female', 11), ('Charles male', 11), ('Henry male', 11), ('Anna female', 11), ('George male', 11), ('Thomas male', 11), ('Mary female', 11), ('William male', 11), ('John male', 11), ('Margaret female', 10), ('Richard male', 10), ('Elizabeth female', 10), ('Charles male', 10), ('Anna female', 10), ('James male', 10), ('Henry male', 10), ('George male', 10), ('Thomas male', 10), ('Mary female', 10), ('William male', 10), ('John male', 10), ('Edward male', 9), ('Elizabeth female', 9), ('Richard male', 9), ('Johan male', 9), ('Charles male', 9), ('Margaret female', 9), ('Henry male', 9), ('James male', 9), ('Anna female', 9), ('George male', 9), ('Mary female', 9), ('Thomas male', 9), ('William male', 9), ('John male', 9), ('Elizabeth female', 8), ('Richard male', 8), ('Karl male', 8), ('Margaret female', 8), ('Frederick male', 8), ('James male', 8), ('Charles male', 8), ('Edward male', 8), ('Anna female', 8), ('Johan male', 8), ('George male', 8), ('Mary female', 8), ('Henry male', 8), ('Thomas male', 8), ('William male', 8), ('John male', 8), ('Elizabeth female', 7), ('Arthur male', 7), ('Karl male', 7), ('Frederick male', 7), ('Richard male', 7), ('Margaret female', 7), ('Anna female', 7), ('Charles male', 7), ('Johan male', 7), ('Alfred male', 7), ('James male', 7), ('George male', 7), ('Edward male', 7), ('Mary female', 7), ('Henry male', 7), ('William male', 7), ('Thomas male', 7), ('John male', 7), ('Joseph male', 6), ('Samuel male', 6), ('Robert male', 6), ('Karl male', 6), ('Alice female', 6), ('Frederick male', 6), ('Elizabeth female', 6), ('Richard male', 6), ('Margaret female', 6), ('Anna female', 6), ('Charles male', 6), ('Alfred male', 6), ('Johan male', 6), ('Arthur male', 6), ('James male', 6), ('Edward male', 6), ('George male', 6), ('Mary female', 6), ('Henry male', 6), ('Thomas male', 6), ('William male', 6), ('John male', 6), ('Ernest male', 5), ('Albert male', 5), ('Bertha female', 5), ('David male', 5), ('Helen female', 5), ('Victor male', 5), ('Joseph male', 5), ('Robert male', 5), ('Samuel male', 5), ('Elizabeth female', 5), ('Karl male', 5), ('Alice female', 5), ('Peter male', 5), ('Anna female', 5), ('Johan male', 5), ('Arthur male', 5), ('Richard male', 5), ('Frederick male', 5), ('James male', 5), ('Edward male', 5), ('Alfred male', 5), ('George male', 5), ('Mary female', 5), ('Charles male', 5), ('Margaret female', 5), ('Henry male', 5), ('William male', 5), ('Thomas male', 5), ('John male', 5), ('Florence female', 4), ('Ellen female', 4), ('Marie female', 4), ('Augusta female', 4), ('Emily female', 4), ('Ernest male', 4), ('Ivan male', 4), ('Maria female', 4), ('Daniel male', 4), ('Ada female', 4), ('Albert male', 4), ('Bertha female', 4), ('Walter male', 4), ('Harry male', 4), ('\"Mr male', 4), ('Helen female', 4), ('Hans male', 4), ('Victor male', 4), ('Ernst male', 4), ('Robert male', 4), ('David male', 4), ('Samuel male', 4), ('Annie female', 4), ('Karl male', 4), ('Alice female', 4), ('Johan male', 4), ('Joseph male', 4), ('Arthur male', 4), ('Peter male', 4), ('Elizabeth female', 4), ('James male', 4), ('Richard male', 4), ('Alfred male', 4), ('George male', 4), ('Frederick male', 4), ('Charles male', 4), ('Mary female', 4), ('Edward male', 4), ('Henry male', 4), ('Anna female', 4), ('Margaret female', 4), ('Thomas male', 4), ('William male', 4), ('John male', 4), ('Elisabeth female', 3), ('Alexander male', 3), ('Hanna male', 3), ('Stephen male', 3), ('Lillian female', 3), ('Patrick male', 3), ('Percival male', 3), ('Martin male', 3), ('Edith female', 3), ('Katherine female', 3), ('Frank male', 3), ('Reginald male', 3), ('Rene male', 3), ('\"Mrs female', 3), ('Jakob male', 3), ('Madeleine female', 3), ('Walter male', 3), ('Ernest male', 3), ('Ernst male', 3), ('Amelia female', 3), ('Hanora female', 3), ('Augusta female', 3), ('Francis male', 3), ('Nils male', 3), ('Ivan male', 3), ('Ellen female', 3), ('Helen female', 3), ('Maria female', 3), ('Emily female', 3), ('Benjamin male', 3), ('Marie female', 3), ('Ada female', 3), ('Leo male', 3), ('Marion female', 3), ('Tannous male', 3), ('Catherine female', 3), ('Annie female', 3), ('Harry male', 3), ('Bertha female', 3), ('Hans male', 3), ('Ida female', 3), ('David male', 3), ('Florence female', 3), ('Samuel male', 3), ('Jane female', 3), ('Victor male', 3), ('Elizabeth female', 3), ('James male', 3), ('Johan male', 3), ('Joseph male', 3), ('Arthur male', 3), ('Robert male', 3), ('Alice female', 3), ('Alfred male', 3), ('\"Mr male', 3), ('George male', 3), ('Edward male', 3), ('Henry male', 3), ('Charles male', 3), ('Frederick male', 3), ('Albert male', 3), ('August male', 3), ('Peter male', 3), ('Anna female', 3), ('Daniel male', 3), ('Mary female', 3), ('William male', 3), ('Richard male', 3), ('Karl male', 3), ('Thomas male', 3), ('John male', 3), ('Margaret female', 3), ('Owen male', 2), ('Lily female', 2), ('Timothy male', 2), ('Adele female', 2), ('Anders male', 2), ('Eugene male', 2), ('Lawrence male', 2), ('Lalio male', 2), ('Manuel male', 2), ('Johanna female', 2), ('Dorothy female', 2), ('Bridget female', 2), ('Juha male', 2), ('Hugh male', 2), ('Constance female', 2), ('Lee male', 2), ('Mabel female', 2), ('Emil male', 2), ('Bertram male', 2), ('Gustaf male', 2), ('Edvard male', 2), ('Stanley male', 2), ('Leonard male', 2), ('Susan female', 2), ('Mathilde female', 2), ('Eino male', 2), ('Edith female', 2), ('Antti male', 2), ('Gerious male', 2), ('Sidney male', 2), ('Lillian female', 2), ('Stephen male', 2), ('Marjorie female', 2), ('Katherine female', 2), ('Reginald male', 2), ('Matti male', 2), ('Alexander male', 2), ('Frank male', 2), ('Kate female', 2), ('Rene male', 2), ('Ivan male', 2), ('Helen female', 2), ('Helene female', 2), ('Ernest male', 2), ('Emily female', 2), ('Jean female', 2), ('Agnes female', 2), ('Clara female', 2), ('Erik male', 2), ('Amelia female', 2), ('Nils male', 2), ('Leo male', 2), ('Elsie female', 2), ('Mauritz male', 2), ('Jakob male', 2), ('Tannous male', 2), ('Rosalie female', 2), ('Juho male', 2), ('Carl male', 2), ('Jessie female', 2), ('Marija female', 2), ('Annie female', 2), ('Ada female', 2), ('\"Mrs female', 2), ('Lucile female', 2), ('Washington male', 2), ('Madeleine female', 2), ('Marie female', 2), ('Benjamin male', 2), ('Francis male', 2), ('Ellen female', 2), ('Maurice male', 2), ('Harry male', 2), ('Jacob male', 2), ('Luka male', 2), ('Ida female', 2), ('Lewis male', 2), ('Harold male', 2), ('Anthony male', 2), ('Jane female', 2), ('Patrick male', 2), ('Florence female', 2), ('Lucy female', 2), ('Catherine female', 2), ('Bertha female', 2), ('Samuel male', 2), ('Walter male', 2), ('Ethel female', 2), ('Percival male', 2), ('Victor male', 2), ('Marion female', 2), ('Charlotte female', 2), ('Maria female', 2), ('Joseph male', 2), ('Martha female', 2), ('Hanna male', 2), ('Amy female', 2), ('Ernst male', 2), ('\"Mr male', 2), ('Robert male', 2), ('Elizabeth female', 2), ('Alice female', 2), ('David male', 2), ('Johan male', 2), ('Hans male', 2), ('Johannes male', 2), ('Hanora female', 2), ('Arthur male', 2), ('Augusta female', 2), ('Charles male', 2), ('James male', 2), ('Martin male', 2), ('Edward male', 2), ('Michael male', 2), ('Henry male', 2), ('Elisabeth female', 2), ('August male', 2), ('Anna female', 2), ('Daniel male', 2), ('Andrew male', 2), ('George male', 2), ('Alfred male', 2), ('William male', 2), ('Richard male', 2), ('Albert male', 2), ('Karl male', 2), ('Thomas male', 2), ('Peter male', 2), ('John male', 2), ('Mary female', 2), ('Frederick male', 2), ('Margaret female', 2), ('Laina female', 1), ('Gosta male', 1), ('Marguerite female', 1), ('Hulda female', 1), ('Emelia female', 1), ('Fatima female', 1), ('Torborg female', 1), ('Selma female', 1), ('Farred male', 1), ('Edgar male', 1), ('Jamila female', 1), ('Theodor male', 1), ('Simonne female', 1), ('Denis male', 1), ('Youssef male', 1), ('Josefine female', 1), ('Myna female', 1), ('Engelhart male', 1), ('Mansouer male', 1), ('Orsen male', 1), ('Amelie female', 1), ('Harald male', 1), ('Gerios male', 1), ('Erna female', 1), ('Vincenz male', 1), ('Ambrose male', 1), ('Apostolos male', 1), ('Sigurd male', 1), ('Rahamin male', 1), ('Alden male', 1), ('Achille male', 1), ('Jan male', 1), ('Brigdet female', 1), ('Francisco male', 1), ('Selman male', 1), ('Francesco male', 1), ('Paul male', 1), ('Herbert male', 1), ('Sinai male', 1), ('Matilda female', 1), ('\"Pentcho\") male', 1), ('Anders male', 1), ('Stoytcho male', 1), ('Tido male', 1), ('Hileni female', 1), ('Katriina female', 1), ('Malake female', 1), ('Quigg male', 1), ('Ellis female', 1), ('Nicholas male', 1), ('Elias male', 1), ('Fridtjof male', 1), ('Jozef male', 1), ('Domingos male', 1), ('Grace female', 1), ('Emile male', 1), ('Jacques male', 1), ('Olaf male', 1), ('Sultana) female', 1), ('Elin female', 1), ('Jeremiah male', 1), ('Edgardo male', 1), ('\"Wennerstrom\") male', 1), ('Robina female', 1), ('\"Louis male', 1), ('Alfonzo male', 1), ('Austin male', 1), ('Ole male', 1), ('Mile male', 1), ('Jovo male', 1), ('Lee male', 1), ('Wyckoff male', 1), ('Eleanor female', 1), ('Klas male', 1), ('Ann female', 1), ('Lionel male', 1), ('Constance female', 1), ('Clarence male', 1), ('Luise female', 1), ('Hugh male', 1), ('Johanna female', 1), ('Stjepan male', 1), ('Rosa) female', 1), ('Carla female', 1), ('Michel male', 1), ('Elise female', 1), ('Nestor male', 1), ('Gurshon male', 1), ('Telma female', 1), ('Nassef male', 1), ('Ahmed male', 1), ('Clear female', 1), ('Philip male', 1), ('Eliina female', 1), ('Albina female', 1), ('Christo male', 1), ('\"Henry\") male', 1), ('Arne male', 1), ('Mathilde female', 1), ('Irene female', 1), ('Bengt male', 1), ('Thamine female', 1), ('Sleiman male', 1), ('Agda female', 1), ('Anna) female', 1), ('Elna female', 1), ('Helena female', 1), ('Hanne female', 1), ('Gertrude female', 1), ('Gladys female', 1), ('Lutie female', 1), ('Edvin male', 1), ('Emil male', 1), ('Delia female', 1), ('Ernesti male', 1), ('Edith female', 1), ('Kornelia female', 1), ('Eric male', 1), ('Rosa female', 1), ('Alfons male', 1), ('Theodore male', 1), ('Penko male', 1), ('Masabumi male', 1), ('Aloisia female', 1), ('Ervin male', 1), ('Mansour male', 1), ('Adolphe male', 1), ('Bernard male', 1), ('Nora female', 1), ('Howard male', 1), ('Hudson male', 1), ('Laura female', 1), ('Ignjac male', 1), ('Helmina female', 1), ('Miriam female', 1), ('Margaretta female', 1), ('Yoto male', 1), ('Hilda female', 1), ('Sylvia female', 1), ('Austen male', 1), ('Mitto male', 1), ('Stephen male', 1), ('Edmond male', 1), ('Stanley male', 1), ('Jovan male', 1), ('Fletcher male', 1), ('Josef male', 1), ('Wazli male', 1), ('Helen female', 1), ('Wilhelm male', 1), ('Sebastiano male', 1), ('Adola male', 1), ('Mantoura female', 1), ('Leontine female', 1), ('Sante male', 1), ('Stina female', 1), ('Leila female', 1), ('Aurora female', 1), ('\"Mary\") female', 1), ('Vasil male', 1), ('Sidney male', 1), ('Kate female', 1), ('Matthew male', 1), ('Marjorie female', 1), ('Agnes female', 1), ('Erik male', 1), ('Elina female', 1), ('Juha male', 1), ('Mari female', 1), ('Pekka male', 1), ('Shadrach male', 1), ('Carl/Charles male', 1), ('Todor male', 1), ('Daisy female', 1), ('Lulu female', 1), ('Lyyli female', 1), ('Catharina female', 1), ('Stanio male', 1), ('Leo male', 1), ('Viktor male', 1), ('Phillippe male', 1), ('Berk male', 1), ('Mauritz male', 1), ('Nikolai male', 1), ('Doolina female', 1), ('Emily female', 1), ('Mark male', 1), ('Esther female', 1), ('Leon male', 1), ('Encarnacion female', 1), ('Bernt male', 1), ('Frederic male', 1), ('Edwy male', 1), ('Ingvald male', 1), ('Ivan male', 1), ('Marion) female', 1), ('Simon male', 1), ('Manuel male', 1), ('Helene female', 1), ('Ada female', 1), ('Marie female', 1), ('Nils male', 1), ('Hildur female', 1), ('Hedwig) female', 1), ('Dickinson male', 1), ('Jeannie female', 1), ('Francis male', 1), ('Eden male', 1), ('Konrad male', 1), ('Einar male', 1), ('Harry male', 1), ('Ramon male', 1), ('Gerious male', 1), ('Bessie female', 1), ('Olof male', 1), ('Petar male', 1), ('Bridget female', 1), ('Kristina female', 1), ('Roberta female', 1), ('\"George male', 1), ('Fang male', 1), ('Eugene male', 1), ('Satio male', 1), ('Amelia female', 1), ('Stefo male', 1), ('Anne female', 1), ('Janko male', 1), ('Sarkis male', 1), ('Ida female', 1), ('Fared male', 1), ('Phyllis female', 1), ('Nakli male', 1), ('Marija female', 1), ('Eva female', 1), ('Archibald male', 1), ('Hedwig female', 1), ('Harriet female', 1), ('Ingeborg female', 1), ('Sigrid female', 1), ('Julian male', 1), ('Frank male', 1), ('Timothy male', 1), ('\"Philip male', 1), ('Velin female', 1), ('Lucille female', 1), ('Tillie female', 1), ('Emma) female', 1), ('Husein male', 1), ('Ilia male', 1), ('Alma female', 1), ('Tannous male', 1), ('Carl male', 1), ('\"Irving\") male', 1), ('Ethel female', 1), ('Eiriik male', 1), ('Julie female', 1), ('Marian female', 1), ('Uscher male', 1), ('Ruth female', 1), ('Maxmillian male', 1), ('Eliezer male', 1), ('Matti male', 1), ('Jean male', 1), ('Jessie female', 1), ('Petco male', 1), ('Edvard male', 1), ('Milan male', 1), ('Juliette female', 1), ('Alfrida female', 1), ('Jose male', 1), ('Ernst male', 1), ('Cordelia female', 1), ('Marion female', 1), ('Lawrence male', 1), ('Antoni male', 1), ('Edwin male', 1), ('Sahid male', 1), ('Gretchen female', 1), ('Guentcho male', 1), ('Patrick male', 1), ('Algernon male', 1), ('Max male', 1), ('Mabel female', 1), ('Antti male', 1), ('Harvey male', 1), ('Maria female', 1), ('Percival male', 1), ('Emma female', 1), ('Margit female', 1), ('Choong male', 1), ('Eugenie female', 1), ('Liudevit male', 1), ('Oberst male', 1), ('Amy female', 1), ('Mito male', 1), ('Elsie female', 1), ('Hanora female', 1), ('Leonard male', 1), ('Alexander male', 1), ('Catherine) female', 1), ('Mohamed male', 1), ('Peju male', 1), ('Eino male', 1), ('Lewis male', 1), ('Reginald male', 1), ('Knud male', 1), ('Jacob male', 1), ('Juliet female', 1), ('Elizabeth female', 1), ('Thornton male', 1), ('Ennis male', 1), ('Gustaf male', 1), ('Katie female', 1), ('Hammad male', 1), ('Thor male', 1), ('Joseph male', 1), ('Jaako male', 1), ('Branko male', 1), ('Eberhard male', 1), ('Georgette female', 1), ('Manca female', 1), ('Ali male', 1), ('Khalil male', 1), ('Charles male', 1), ('Katherine female', 1), ('Adolf male', 1), ('Madeleine female', 1), ('Spencer male', 1), ('Saiide female', 1), ('Henrik male', 1), ('\"Mr male', 1), ('Florence female', 1), ('Alice female', 1), ('\"William male', 1), ('\"Mrs female', 1), ('Herman male', 1), ('Elmer male', 1), ('Samuel male', 1), ('Caroline female', 1), ('Edwina female', 1), ('Malkolm male', 1), ('Annie female', 1), ('Svend male', 1), ('Norman male', 1), ('Luka male', 1), ('Lillian female', 1), ('Margareth female', 1), ('Kurt male', 1), ('Pieta female', 1), ('Houssein male', 1), ('Robert male', 1), ('Moses male', 1), ('Leslie male', 1), ('Gustave male', 1), ('Kanio male', 1), ('Minko male', 1), ('Walter male', 1), ('Tyrell male', 1), ('Susan female', 1), ('Neal male', 1), ('Juho male', 1), ('Edward male', 1), ('Rossmore male', 1), ('Michael male', 1), ('Joan female', 1), ('Meier male', 1), ('Johannes male', 1), ('Lalio male', 1), ('Jane female', 1), ('Viljo male', 1), ('Percy male', 1), ('Lucy female', 1), ('Iisakki male', 1), ('Hanna male', 1), ('Lucile female', 1), ('Hans male', 1), ('Arthur male', 1), ('Daniel male', 1), ('Rene male', 1), ('Niels male', 1), ('Mary) female', 1), ('Dibo male', 1), ('Eliza female', 1), ('Pehr male', 1), ('Roger male', 1), ('Virginia female', 1), ('Elisabeth female', 1), ('Banoura female', 1), ('Vera female', 1), ('Milton male', 1), ('David male', 1), ('Anna female', 1), ('Bertram male', 1), ('Benjamin male', 1), ('Andrew male', 1), ('Stella female', 1), ('Ristiu male', 1), ('Farnham) female', 1), ('Mara female', 1), ('Yousseff male', 1), ('Rosalie female', 1), ('Martin male', 1), ('Charlotte female', 1), ('Assad male', 1), ('Oskar male', 1), ('Ellen female', 1), ('August male', 1), ('Bertha female', 1), ('William male', 1), ('James male', 1), ('Ebba female', 1), ('Ernest male', 1), ('Richard male', 1), ('Wendla female', 1), ('Clara female', 1), ('Nikola male', 1), ('Beila) female', 1), ('Urho male', 1), ('Len male', 1), ('Andre male', 1), ('Martha female', 1), ('Selini female', 1), ('George male', 1), ('Amin male', 1), ('Albert male', 1), ('Owen male', 1), ('Sara female', 1), ('Jakob male', 1), ('Maurice male', 1), ('Chang male', 1), ('Pierre male', 1), ('Ilmari male', 1), ('Thomas male', 1), ('Augusta female', 1), ('Jeso male', 1), ('Anthony male', 1), ('Douglas male', 1), ('Marin male', 1), ('Edwiga female', 1), ('Sigvard male', 1), ('Johan male', 1), ('Nourelain female', 1), ('Lilian female', 1), ('Leah female', 1), ('Mary female', 1), ('Peter male', 1), ('Latifa female', 1), ('Raihed male', 1), ('Claus male', 1), ('Dorothy female', 1), ('John male', 1), ('Karolina) female', 1), ('Asuncion female', 1), ('Washington male', 1), ('Philemon male', 1), ('Harold male', 1), ('Cerin male', 1), ('Sallie female', 1), ('Frans male', 1), ('Victor male', 1), ('Hannah female', 1), ('Adele female', 1), ('Alfred male', 1), ('Nedelio male', 1), ('Kristo male', 1), ('Lily female', 1), ('Imanita female', 1), ('Johann male', 1), ('Gerda female', 1), ('Frederick male', 1), ('Henry male', 1), ('Juozas male', 1), ('Margaret female', 1), ('Catherine female', 1)]\n"
     ]
    }
   ],
   "source": [
    "c = 0\n",
    "\n",
    "def func(name):\n",
    "    if \"(\" in name:\n",
    "        point = name.find(\"(\")\n",
    "        nna = name[point+1:].split(\" \")[0]\n",
    "    else:\n",
    "        alll = name.split(\".\")\n",
    "        f_m = alll[0]\n",
    "        na = alll[1]\n",
    "        nna = na.split()[0]\n",
    "        nna.strip(\" \")\n",
    "        if \"(\" in nna:\n",
    "            nna = nna[1:]\n",
    "        if \")\" in nna:\n",
    "            nna = nna[:-1]\n",
    "    return nna\n",
    "spisok = []\n",
    "for i in range(1, len(data[\"Name\"])-1):\n",
    "    chet = 1\n",
    "    n1 = func(data[\"Name\"][i])\n",
    "\n",
    "    for j in range(i+1,len(data[\"Name\"])):\n",
    "        n2 = func(data[\"Name\"][j])\n",
    "        if n1 == n2:\n",
    "            chet += 1\n",
    "    n1 += \" \" + data[\"Sex\"][i]        \n",
    "    spisok.append((n1,chet))\n",
    "spisok.sort(key = lambda x: int(x[1]), reverse = True)\n",
    "print(spisok)"
   ]
  },
  {
   "cell_type": "code",
   "execution_count": null,
   "metadata": {},
   "outputs": [],
   "source": []
  },
  {
   "cell_type": "code",
   "execution_count": null,
   "metadata": {},
   "outputs": [],
   "source": []
  },
  {
   "cell_type": "code",
   "execution_count": 15,
   "metadata": {},
   "outputs": [],
   "source": []
  },
  {
   "cell_type": "code",
   "execution_count": 16,
   "metadata": {},
   "outputs": [
    {
     "ename": "IndexError",
     "evalue": "list index out of range",
     "output_type": "error",
     "traceback": [
      "\u001b[1;31m---------------------------------------------------------------------------\u001b[0m",
      "\u001b[1;31mIndexError\u001b[0m                                Traceback (most recent call last)",
      "\u001b[1;32m<ipython-input-16-11a5c632b067>\u001b[0m in \u001b[0;36m<module>\u001b[1;34m\u001b[0m\n\u001b[0;32m      4\u001b[0m     \u001b[1;31m#al_n.append(n1)\u001b[0m\u001b[1;33m\u001b[0m\u001b[1;33m\u001b[0m\u001b[1;33m\u001b[0m\u001b[0m\n\u001b[0;32m      5\u001b[0m     \u001b[1;32mfor\u001b[0m \u001b[0mj\u001b[0m \u001b[1;32min\u001b[0m \u001b[1;33m(\u001b[0m\u001b[0mi\u001b[0m\u001b[1;33m+\u001b[0m\u001b[1;36m1\u001b[0m\u001b[1;33m,\u001b[0m\u001b[0mlen\u001b[0m\u001b[1;33m(\u001b[0m\u001b[0ma\u001b[0m\u001b[1;33m)\u001b[0m\u001b[1;33m)\u001b[0m\u001b[1;33m:\u001b[0m\u001b[1;33m\u001b[0m\u001b[1;33m\u001b[0m\u001b[0m\n\u001b[1;32m----> 6\u001b[1;33m         \u001b[1;32mif\u001b[0m \u001b[0mn1\u001b[0m \u001b[1;33m==\u001b[0m \u001b[0ma\u001b[0m\u001b[1;33m[\u001b[0m\u001b[0mj\u001b[0m\u001b[1;33m]\u001b[0m\u001b[1;33m:\u001b[0m\u001b[1;33m\u001b[0m\u001b[1;33m\u001b[0m\u001b[0m\n\u001b[0m\u001b[0;32m      7\u001b[0m             \u001b[0mchet\u001b[0m \u001b[1;33m+=\u001b[0m \u001b[1;36m1\u001b[0m\u001b[1;33m\u001b[0m\u001b[1;33m\u001b[0m\u001b[0m\n\u001b[0;32m      8\u001b[0m     \u001b[0mspisok\u001b[0m\u001b[1;33m.\u001b[0m\u001b[0mappend\u001b[0m\u001b[1;33m(\u001b[0m\u001b[1;33m(\u001b[0m\u001b[0mn1\u001b[0m\u001b[1;33m,\u001b[0m\u001b[0mchet\u001b[0m\u001b[1;33m)\u001b[0m\u001b[1;33m)\u001b[0m\u001b[1;33m\u001b[0m\u001b[1;33m\u001b[0m\u001b[0m\n",
      "\u001b[1;31mIndexError\u001b[0m: list index out of range"
     ]
    }
   ],
   "source": []
  },
  {
   "cell_type": "code",
   "execution_count": null,
   "metadata": {},
   "outputs": [],
   "source": []
  },
  {
   "cell_type": "code",
   "execution_count": null,
   "metadata": {},
   "outputs": [],
   "source": [
    "\n",
    "data.loc[data['Sex'] == \"male\", 'Sex'] = 1\n",
    "data.loc[data['Sex'] == \"female\", 'Sex'] = 0\n",
    "\n",
    "e = pd.DataFrame(data=data, columns=[\"Pclass\", \"Fare\", \"Age\", \"Sex\", \"Survived\"])\n",
    "e = e.dropna()\n",
    "pr = pd.DataFrame(data=e ,columns=[\"Pclass\", \"Fare\", \"Age\", \"Sex\"])\n",
    "k = pd.DataFrame(data=e, columns=[\"Survived\"])\n",
    "clf = DecisionTreeClassifier(random_state=241)\n",
    "clf.fit(pr, k)\n",
    "importances = clf.feature_importances_\n",
    "print(importances)"
   ]
  },
  {
   "cell_type": "code",
   "execution_count": null,
   "metadata": {},
   "outputs": [],
   "source": []
  },
  {
   "cell_type": "code",
   "execution_count": null,
   "metadata": {},
   "outputs": [],
   "source": []
  }
 ],
 "metadata": {
  "kernelspec": {
   "display_name": "Python 3",
   "language": "python",
   "name": "python3"
  },
  "language_info": {
   "codemirror_mode": {
    "name": "ipython",
    "version": 3
   },
   "file_extension": ".py",
   "mimetype": "text/x-python",
   "name": "python",
   "nbconvert_exporter": "python",
   "pygments_lexer": "ipython3",
   "version": "3.7.4"
  }
 },
 "nbformat": 4,
 "nbformat_minor": 4
}
